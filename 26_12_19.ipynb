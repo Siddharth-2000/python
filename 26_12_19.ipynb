{
  "nbformat": 4,
  "nbformat_minor": 0,
  "metadata": {
    "colab": {
      "name": "26/12/19.ipynb",
      "provenance": [],
      "collapsed_sections": [],
      "include_colab_link": true
    },
    "kernelspec": {
      "name": "python3",
      "display_name": "Python 3"
    }
  },
  "cells": [
    {
      "cell_type": "markdown",
      "metadata": {
        "id": "view-in-github",
        "colab_type": "text"
      },
      "source": [
        "<a href=\"https://colab.research.google.com/github/Siddharth-2000/python/blob/master/26_12_19.ipynb\" target=\"_parent\"><img src=\"https://colab.research.google.com/assets/colab-badge.svg\" alt=\"Open In Colab\"/></a>"
      ]
    },
    {
      "cell_type": "code",
      "metadata": {
        "id": "MWTDWbu9duZO",
        "colab_type": "code",
        "outputId": "71f381f0-be3b-4331-bc1f-9272defe8677",
        "colab": {
          "base_uri": "https://localhost:8080/",
          "height": 51
        }
      },
      "source": [
        "n = int(input(\"enter a number\"))\n",
        "i=1\n",
        "while i<=n:\n",
        "  print(i,end= \" \")\n",
        "  i =i +1"
      ],
      "execution_count": 0,
      "outputs": [
        {
          "output_type": "stream",
          "text": [
            "enter a number12\n",
            "1 2 3 4 5 6 7 8 9 10 11 12 "
          ],
          "name": "stdout"
        }
      ]
    },
    {
      "cell_type": "code",
      "metadata": {
        "id": "a3W6APzYeQZn",
        "colab_type": "code",
        "outputId": "bf1abcc6-6a54-4ee5-c10f-08b4e823e04f",
        "colab": {
          "base_uri": "https://localhost:8080/",
          "height": 51
        }
      },
      "source": [
        "n = int(input(\"enter a number\"))\n",
        "sum=0\n",
        "i=1\n",
        "while(i<=n):\n",
        "  if (i%2==0):\n",
        "    sum=sum+i\n",
        "  i = i+1\n",
        "print(sum)"
      ],
      "execution_count": 0,
      "outputs": [
        {
          "output_type": "stream",
          "text": [
            "enter a number24\n",
            "156\n"
          ],
          "name": "stdout"
        }
      ]
    },
    {
      "cell_type": "code",
      "metadata": {
        "id": "8Yf5b-gJigaj",
        "colab_type": "code",
        "outputId": "438d7554-236d-45d6-c983-90519097298b",
        "colab": {
          "base_uri": "https://localhost:8080/",
          "height": 51
        }
      },
      "source": [
        "\n",
        "n = int(input(\"enter a number\"))\n",
        "while n!=0:\n",
        "  r = n %10\n",
        "  print(r,end =\" \")\n",
        "  n = n//10\n",
        "\n",
        "\n",
        "\n",
        "\n"
      ],
      "execution_count": 0,
      "outputs": [
        {
          "output_type": "stream",
          "text": [
            "enter a number1234\n",
            "4 3 2 1 "
          ],
          "name": "stdout"
        }
      ]
    },
    {
      "cell_type": "markdown",
      "metadata": {
        "id": "fgRQNSEfjsfA",
        "colab_type": "text"
      },
      "source": [
        "#functional programs\n",
        "-simple\n",
        "-easy read\n",
        "-lengthy program divides into sub program\n"
      ]
    },
    {
      "cell_type": "code",
      "metadata": {
        "id": "h1IqF96xkCbe",
        "colab_type": "code",
        "colab": {}
      },
      "source": [
        "#syntax\n",
        "def nameofthefunction(<parameters>):\n",
        "  statements\n",
        "  return"
      ],
      "execution_count": 0,
      "outputs": []
    },
    {
      "cell_type": "code",
      "metadata": {
        "id": "___uhoFEkO-3",
        "colab_type": "code",
        "outputId": "89539cb1-8312-4544-e9fd-d8b51472c286",
        "colab": {
          "base_uri": "https://localhost:8080/",
          "height": 34
        }
      },
      "source": [
        "#input : 1234\n",
        "#output :6 (4+2)\n",
        "def addevendigit(n):\n",
        "  sum =0\n",
        "  while n!= 0 :\n",
        "    r = n%10\n",
        "    if (r %2==0):\n",
        "      sum = sum+r\n",
        "    n = n//10\n",
        "  return sum\n",
        "addevendigit(1234)\n"
      ],
      "execution_count": 0,
      "outputs": [
        {
          "output_type": "execute_result",
          "data": {
            "text/plain": [
              "6"
            ]
          },
          "metadata": {
            "tags": []
          },
          "execution_count": 40
        }
      ]
    },
    {
      "cell_type": "code",
      "metadata": {
        "id": "eLOvG8Rym4yD",
        "colab_type": "code",
        "outputId": "f4cd1755-ba10-44aa-cdd7-51e46aac3415",
        "colab": {
          "base_uri": "https://localhost:8080/",
          "height": 34
        }
      },
      "source": [
        "#input : 19528\n",
        "#output :9\n",
        "def largestdigit(n):\n",
        "  largest=0\n",
        "  while n>0 :\n",
        "    r = n%10\n",
        "    if (r >largest):\n",
        "      largest = r\n",
        "    n = n//10\n",
        "  return largest\n",
        "largestdigit(19528)\n"
      ],
      "execution_count": 0,
      "outputs": [
        {
          "output_type": "execute_result",
          "data": {
            "text/plain": [
              "9"
            ]
          },
          "metadata": {
            "tags": []
          },
          "execution_count": 48
        }
      ]
    },
    {
      "cell_type": "code",
      "metadata": {
        "id": "K9ji94mKtRzG",
        "colab_type": "code",
        "outputId": "8e96f189-0327-4f8c-c16a-991db063ceba",
        "colab": {
          "base_uri": "https://localhost:8080/",
          "height": 34
        }
      },
      "source": [
        "#palindrome\n",
        "def palindrome(n):\n",
        "  pal =0\n",
        "  while(n>0) : \n",
        "    r=n %10\n",
        "    pal =pal *10 + r\n",
        "    n = n//10\n",
        "  return pal \n",
        "palindrome(23765)"
      ],
      "execution_count": 0,
      "outputs": [
        {
          "output_type": "execute_result",
          "data": {
            "text/plain": [
              "56732"
            ]
          },
          "metadata": {
            "tags": []
          },
          "execution_count": 52
        }
      ]
    },
    {
      "cell_type": "code",
      "metadata": {
        "id": "QF2cpwFcxuto",
        "colab_type": "code",
        "colab": {}
      },
      "source": [
        "#input :123-----123----yes, 123-----321---no\n",
        "def ispalindrome(n):\n",
        "  rev=0\n",
        "  buffer=0\n",
        "  while(n>0):\n",
        "    r= \n"
      ],
      "execution_count": 0,
      "outputs": []
    },
    {
      "cell_type": "code",
      "metadata": {
        "id": "sApchAcW0WB_",
        "colab_type": "code",
        "outputId": "95bebe97-e93b-4d45-e863-6c0abb633099",
        "colab": {
          "base_uri": "https://localhost:8080/",
          "height": 34
        }
      },
      "source": [
        "def natural(n):\n",
        "  for i in range (1,n+1):\n",
        "    print(i,end=\" \")\n",
        "natural(10)"
      ],
      "execution_count": 0,
      "outputs": [
        {
          "output_type": "stream",
          "text": [
            "1 2 3 4 5 6 7 8 9 10 "
          ],
          "name": "stdout"
        }
      ]
    },
    {
      "cell_type": "code",
      "metadata": {
        "id": "XuXhw0WP15YY",
        "colab_type": "code",
        "outputId": "8488d75b-99ff-4422-e88b-a72f3ce05985",
        "colab": {
          "base_uri": "https://localhost:8080/",
          "height": 34
        }
      },
      "source": [
        "def natural(n):\n",
        "  for i in range (1,n+1):\n",
        "    print(i,end=\" \")\n",
        "natural(24)"
      ],
      "execution_count": 0,
      "outputs": [
        {
          "output_type": "stream",
          "text": [
            "1 2 3 4 5 6 7 8 9 10 11 12 13 14 15 16 17 18 19 20 21 22 23 24 "
          ],
          "name": "stdout"
        }
      ]
    },
    {
      "cell_type": "code",
      "metadata": {
        "id": "UjiYIK1g3I_h",
        "colab_type": "code",
        "outputId": "000640e1-587d-4965-a974-706e7a18868e",
        "colab": {
          "base_uri": "https://localhost:8080/",
          "height": 129
        }
      },
      "source": [
        "def reverese(b,1)\n",
        "for i in range (1,b-1,-1):\n",
        "  print(i,end=\" \")\n",
        "revereserange(10)"
      ],
      "execution_count": 0,
      "outputs": [
        {
          "output_type": "error",
          "ename": "SyntaxError",
          "evalue": "ignored",
          "traceback": [
            "\u001b[0;36m  File \u001b[0;32m\"<ipython-input-60-1948daf3257d>\"\u001b[0;36m, line \u001b[0;32m1\u001b[0m\n\u001b[0;31m    def reverese(b,1)\u001b[0m\n\u001b[0m                   ^\u001b[0m\n\u001b[0;31mSyntaxError\u001b[0m\u001b[0;31m:\u001b[0m invalid syntax\n"
          ]
        }
      ]
    },
    {
      "cell_type": "markdown",
      "metadata": {
        "id": "yGpTEGdu4aon",
        "colab_type": "text"
      },
      "source": [
        "#datastructures\n",
        "-list\n",
        "-tuple\n",
        "-dictionary"
      ]
    },
    {
      "cell_type": "markdown",
      "metadata": {
        "id": "UaY5ZbB246kI",
        "colab_type": "text"
      },
      "source": [
        " #list\n",
        " it is one common\n",
        " data structure in python ,items are seperated by comma and enclosed by []\n",
        " -crud operations\n",
        " -c means create\n",
        " -r- read\n",
        " -u update\n",
        " -d-delete\n",
        " - list can be changed or immutable\n",
        " \n",
        " ###example\n",
        " -list = [1,2,3,4]"
      ]
    },
    {
      "cell_type": "markdown",
      "metadata": {
        "id": "HWznmHY55xqC",
        "colab_type": "text"
      },
      "source": [
        "vvvvccvvccvccvc"
      ]
    }
  ]
}