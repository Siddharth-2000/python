{
  "nbformat": 4,
  "nbformat_minor": 0,
  "metadata": {
    "colab": {
      "name": "27/12/19.ipynb",
      "provenance": [],
      "collapsed_sections": [],
      "include_colab_link": true
    },
    "kernelspec": {
      "name": "python3",
      "display_name": "Python 3"
    }
  },
  "cells": [
    {
      "cell_type": "markdown",
      "metadata": {
        "id": "view-in-github",
        "colab_type": "text"
      },
      "source": [
        "<a href=\"https://colab.research.google.com/github/Siddharth-2000/python/blob/master/27_12_19.ipynb\" target=\"_parent\"><img src=\"https://colab.research.google.com/assets/colab-badge.svg\" alt=\"Open In Colab\"/></a>"
      ]
    },
    {
      "cell_type": "code",
      "metadata": {
        "id": "i6_xk1yIc-S3",
        "colab_type": "code",
        "colab": {
          "base_uri": "https://localhost:8080/",
          "height": 34
        },
        "outputId": "c9a0d2c3-658a-46f5-c0f6-6a8981995c03"
      },
      "source": [
        "li =[\"gitam\",123,124,1323,1232,3451]\n",
        "print(li)"
      ],
      "execution_count": 1,
      "outputs": [
        {
          "output_type": "stream",
          "text": [
            "['gitam', 123, 124, 1323, 1232, 3451]\n"
          ],
          "name": "stdout"
        }
      ]
    },
    {
      "cell_type": "code",
      "metadata": {
        "id": "n6uGqcMDdUGC",
        "colab_type": "code",
        "colab": {
          "base_uri": "https://localhost:8080/",
          "height": 34
        },
        "outputId": "47736df7-ac87-438f-f367-20ee7645da37"
      },
      "source": [
        "#update\n",
        "\n",
        "li[0] = \"karthik\"\n",
        "print(li)"
      ],
      "execution_count": 2,
      "outputs": [
        {
          "output_type": "stream",
          "text": [
            "['karthik', 123, 124, 1323, 1232, 3451]\n"
          ],
          "name": "stdout"
        }
      ]
    },
    {
      "cell_type": "code",
      "metadata": {
        "id": "1fT9xL-wdjPd",
        "colab_type": "code",
        "colab": {
          "base_uri": "https://localhost:8080/",
          "height": 34
        },
        "outputId": "0a457a85-8a62-405d-f7a3-f8d275259db8"
      },
      "source": [
        "#delete\n",
        "del li[3]\n",
        "print(li)\n"
      ],
      "execution_count": 3,
      "outputs": [
        {
          "output_type": "stream",
          "text": [
            "['karthik', 123, 124, 1232, 3451]\n"
          ],
          "name": "stdout"
        }
      ]
    },
    {
      "cell_type": "code",
      "metadata": {
        "id": "OJHooeUxehqa",
        "colab_type": "code",
        "colab": {
          "base_uri": "https://localhost:8080/",
          "height": 85
        },
        "outputId": "1705ea63-5073-425b-b79a-97736fe79a5e"
      },
      "source": [
        "li=[12,23,3,344,55]\n",
        "print(len(li))\n",
        "print(li*2)\n",
        "print(55 in li)\n",
        "print(4 in li)\n"
      ],
      "execution_count": 7,
      "outputs": [
        {
          "output_type": "stream",
          "text": [
            "5\n",
            "[12, 23, 3, 344, 55, 12, 23, 3, 344, 55]\n",
            "True\n",
            "False\n"
          ],
          "name": "stdout"
        }
      ]
    },
    {
      "cell_type": "markdown",
      "metadata": {
        "id": "bfBiBWN4fq_F",
        "colab_type": "text"
      },
      "source": [
        "BASIC LIST FUNCTIONS "
      ]
    },
    {
      "cell_type": "code",
      "metadata": {
        "id": "hs5Cm8XmgXWV",
        "colab_type": "code",
        "colab": {
          "base_uri": "https://localhost:8080/",
          "height": 85
        },
        "outputId": "112327e5-a6c8-4835-fe3b-32472e35226c"
      },
      "source": [
        "\n",
        "li = [1,2,3,4,5,6]\n",
        "print(max(li))\n",
        "print(min(li))\n",
        "print(sum(li))\n",
        "print(sum(li)/len(li))\n"
      ],
      "execution_count": 9,
      "outputs": [
        {
          "output_type": "stream",
          "text": [
            "6\n",
            "1\n",
            "21\n",
            "3.5\n"
          ],
          "name": "stdout"
        }
      ]
    },
    {
      "cell_type": "code",
      "metadata": {
        "id": "bISQZax1iKyN",
        "colab_type": "code",
        "colab": {
          "base_uri": "https://localhost:8080/",
          "height": 51
        },
        "outputId": "54f51ff8-0636-4304-8f63-b8d8a904d5f4"
      },
      "source": [
        "li =[1,2,3,4,5,6]\n",
        "li.append(29)#\n",
        "print(li)\n",
        "li.insert(2,45)\n",
        "print(li)"
      ],
      "execution_count": 10,
      "outputs": [
        {
          "output_type": "stream",
          "text": [
            "[1, 2, 3, 4, 5, 6, 29]\n",
            "[1, 2, 45, 3, 4, 5, 6, 29]\n"
          ],
          "name": "stdout"
        }
      ]
    },
    {
      "cell_type": "code",
      "metadata": {
        "id": "xXRFEnKjivVe",
        "colab_type": "code",
        "colab": {
          "base_uri": "https://localhost:8080/",
          "height": 68
        },
        "outputId": "b85978bb-8263-46a5-b9bc-42d07fd14437"
      },
      "source": [
        "li=[1,2,3,4,5,6,29]\n",
        "li.sort()\n",
        "print(li)\n",
        "li.pop()\n",
        "print(li)\n",
        "li.pop(1)\n",
        "print(li)"
      ],
      "execution_count": 13,
      "outputs": [
        {
          "output_type": "stream",
          "text": [
            "[1, 2, 3, 4, 5, 6, 29]\n",
            "[1, 2, 3, 4, 5, 6]\n",
            "[1, 3, 4, 5, 6]\n"
          ],
          "name": "stdout"
        }
      ]
    },
    {
      "cell_type": "code",
      "metadata": {
        "id": "m1mH27Eui6h0",
        "colab_type": "code",
        "colab": {
          "base_uri": "https://localhost:8080/",
          "height": 51
        },
        "outputId": "aa9da436-c317-46db-be60-1e947dc1f53f"
      },
      "source": [
        "#function to return large number from list \n",
        "def largenumber(li):\n",
        "  li.sort()\n",
        "  return li[-1]\n",
        "def genericlarge(li,n):\n",
        "  li.sort()\n",
        "  return li[-n]\n",
        "li=[19,1,3,87,32,21,36]\n",
        "print(largenumber(li))\n",
        "print(genericlarge(li,3))"
      ],
      "execution_count": 18,
      "outputs": [
        {
          "output_type": "stream",
          "text": [
            "87\n",
            "32\n"
          ],
          "name": "stdout"
        }
      ]
    },
    {
      "cell_type": "code",
      "metadata": {
        "id": "CoeR-R4RmFyL",
        "colab_type": "code",
        "colab": {
          "base_uri": "https://localhost:8080/",
          "height": 51
        },
        "outputId": "e29fe740-ffbc-4a69-e513-5bfc3440802f"
      },
      "source": [
        "#function to return smallnumber from list \n",
        "def smallnumber(li):\n",
        "  li.sort()\n",
        "  return li[0]\n",
        "def genericsmall(n):\n",
        "  li.sort()\n",
        "  return li[n-1]\n",
        "li=[19,1,3,87,32,21,36]\n",
        "print(smallnumber(li))\n",
        "print(genericsmall(3))"
      ],
      "execution_count": 24,
      "outputs": [
        {
          "output_type": "stream",
          "text": [
            "1\n",
            "19\n"
          ],
          "name": "stdout"
        }
      ]
    },
    {
      "cell_type": "code",
      "metadata": {
        "id": "l0fhSjmdx8K1",
        "colab_type": "code",
        "colab": {}
      },
      "source": [
        ""
      ],
      "execution_count": 0,
      "outputs": []
    },
    {
      "cell_type": "code",
      "metadata": {
        "colab_type": "code",
        "outputId": "921a0ab1-792e-44e1-f50c-8118ce9de79b",
        "id": "gut0tHXIr3x0",
        "colab": {
          "base_uri": "https://localhost:8080/",
          "height": 136
        }
      },
      "source": [
        "print(li)\n",
        "print(li[1])\n",
        "\n",
        "print(li[2:])\n",
        "\n",
        "print(li[2:4])\n",
        "\n",
        "print(li[-1])\n",
        "\n",
        "print(li[-4:-1])\n",
        "print(li[::-1])\n"
      ],
      "execution_count": 30,
      "outputs": [
        {
          "output_type": "stream",
          "text": [
            "[1, 3, 19, 21, 32, 36, 87]\n",
            "3\n",
            "[19, 21, 32, 36, 87]\n",
            "[19, 21]\n",
            "87\n",
            "[21, 32, 36]\n",
            "[87, 36, 32, 21, 19, 3, 1]\n"
          ],
          "name": "stdout"
        }
      ]
    },
    {
      "cell_type": "markdown",
      "metadata": {
        "id": "bdl3Lg5_nmgB",
        "colab_type": "text"
      },
      "source": [
        "#tuples\n",
        "-VALUES SEPERATED BY COMMA AND ENCLOSEDBY PARENTHESIS()\n",
        "-VALUES CANNOT BE CHANGED IE IMMUTABLE\n",
        "#DIFFERENCE B/W LIST AND TUPLE\n",
        "- list can be modified \n",
        "- list is used to modify , add , delete\n",
        "- tuple can not be modified\n",
        "-  used to access data only\n",
        "\n"
      ]
    },
    {
      "cell_type": "code",
      "metadata": {
        "id": "oQCVrU7AmM4A",
        "colab_type": "code",
        "colab": {
          "base_uri": "https://localhost:8080/",
          "height": 51
        },
        "outputId": "c01267c1-12d2-44e5-ba6b-4ccc76a0e017"
      },
      "source": [
        "t1= (1,2,3,4,5)\n",
        "print(t1)\n",
        "print(type(t1))"
      ],
      "execution_count": 31,
      "outputs": [
        {
          "output_type": "stream",
          "text": [
            "(1, 2, 3, 4, 5)\n",
            "<class 'tuple'>\n"
          ],
          "name": "stdout"
        }
      ]
    },
    {
      "cell_type": "markdown",
      "metadata": {
        "id": "QEjzdg_Lr9vp",
        "colab_type": "text"
      },
      "source": [
        "#dictionaries\n",
        "-  it works on concept of set unidue data\n",
        "-  dictionary contains keys and values\n",
        "-  each key is seprerated from its value with colan ':'\n",
        "- each key and values seperated by comma ','\n",
        "- and dictionary enclosed by {}\n",
        "- "
      ]
    },
    {
      "cell_type": "code",
      "metadata": {
        "id": "J8wZZaE6r7nr",
        "colab_type": "code",
        "colab": {
          "base_uri": "https://localhost:8080/",
          "height": 34
        },
        "outputId": "39fc6d9d-c2f6-47a9-8581-e33e05fa04a2"
      },
      "source": [
        "d1 = {\"name\":\"Gitam\",\"email\":\"gitam@gmail.com\",\"address\":\"hyderbad\"}\n",
        "d1"
      ],
      "execution_count": 33,
      "outputs": [
        {
          "output_type": "execute_result",
          "data": {
            "text/plain": [
              "{'address': 'hyderbad', 'email': 'gitam@gmail.com', 'name': 'Gitam'}"
            ]
          },
          "metadata": {
            "tags": []
          },
          "execution_count": 33
        }
      ]
    },
    {
      "cell_type": "code",
      "metadata": {
        "id": "o4q0EOe8txwh",
        "colab_type": "code",
        "colab": {
          "base_uri": "https://localhost:8080/",
          "height": 34
        },
        "outputId": "98a9c24f-6872-41b8-d679-8caa17d03eea"
      },
      "source": [
        "d1[\"name\"]\n"
      ],
      "execution_count": 35,
      "outputs": [
        {
          "output_type": "execute_result",
          "data": {
            "text/plain": [
              "'Gitam'"
            ]
          },
          "metadata": {
            "tags": []
          },
          "execution_count": 35
        }
      ]
    },
    {
      "cell_type": "code",
      "metadata": {
        "id": "cM5V92wMuqcT",
        "colab_type": "code",
        "colab": {
          "base_uri": "https://localhost:8080/",
          "height": 34
        },
        "outputId": "2ee4770e-4750-4a2c-d8b0-6c776eef9672"
      },
      "source": [
        "d1 = {\"name\":\"Gitam\",\"email\":\"gitam@gmail.com\",\"address\":\"hyderbad\"}\n",
        "d1[\"email\"]='python@gmail.com'\n",
        "print(d1)"
      ],
      "execution_count": 40,
      "outputs": [
        {
          "output_type": "stream",
          "text": [
            "{'name': 'Gitam', 'email': 'python@gmail.com', 'address': 'hyderbad'}\n"
          ],
          "name": "stdout"
        }
      ]
    },
    {
      "cell_type": "code",
      "metadata": {
        "id": "m97RWUXouwa9",
        "colab_type": "code",
        "colab": {
          "base_uri": "https://localhost:8080/",
          "height": 34
        },
        "outputId": "8407e2e9-d880-4af4-dafc-df8983b8dcde"
      },
      "source": [
        "d1[\"course\"]= 'python'\n",
        "print(d1)"
      ],
      "execution_count": 38,
      "outputs": [
        {
          "output_type": "stream",
          "text": [
            "{'name': 'Gitam', 'email': 'gitam@gmail.com', 'address': 'hyderbad', 'course': 'python'}\n"
          ],
          "name": "stdout"
        }
      ]
    },
    {
      "cell_type": "code",
      "metadata": {
        "id": "RSVpsgJhvrBK",
        "colab_type": "code",
        "colab": {
          "base_uri": "https://localhost:8080/",
          "height": 34
        },
        "outputId": "93f80cac-a8c9-4285-d0b9-f0f665e9449b"
      },
      "source": [
        "#delete\n",
        "del d1[\"email\"]\n",
        "print(d1)"
      ],
      "execution_count": 44,
      "outputs": [
        {
          "output_type": "stream",
          "text": [
            "{'address': 'hyderbad'}\n"
          ],
          "name": "stdout"
        }
      ]
    },
    {
      "cell_type": "code",
      "metadata": {
        "id": "B2x0-JDxx-LO",
        "colab_type": "code",
        "colab": {
          "base_uri": "https://localhost:8080/",
          "height": 34
        },
        "outputId": "c11bcb71-019d-4ec1-d439-4cb96c87b3ad"
      },
      "source": [
        "d1.keys()"
      ],
      "execution_count": 45,
      "outputs": [
        {
          "output_type": "execute_result",
          "data": {
            "text/plain": [
              "dict_keys(['address'])"
            ]
          },
          "metadata": {
            "tags": []
          },
          "execution_count": 45
        }
      ]
    },
    {
      "cell_type": "code",
      "metadata": {
        "id": "0vgPQk4LyEmi",
        "colab_type": "code",
        "colab": {
          "base_uri": "https://localhost:8080/",
          "height": 34
        },
        "outputId": "98fa9ca2-a4ef-48d3-b8ab-b80303666ab6"
      },
      "source": [
        "d1.values()"
      ],
      "execution_count": 46,
      "outputs": [
        {
          "output_type": "execute_result",
          "data": {
            "text/plain": [
              "dict_values(['hyderbad'])"
            ]
          },
          "metadata": {
            "tags": []
          },
          "execution_count": 46
        }
      ]
    },
    {
      "cell_type": "code",
      "metadata": {
        "id": "DQW7fjTKyKUp",
        "colab_type": "code",
        "colab": {
          "base_uri": "https://localhost:8080/",
          "height": 34
        },
        "outputId": "c8f3b1f6-6d15-4367-d4ce-f9319bb364ae"
      },
      "source": [
        "d1.items()"
      ],
      "execution_count": 48,
      "outputs": [
        {
          "output_type": "execute_result",
          "data": {
            "text/plain": [
              "dict_items([('address', 'hyderbad')])"
            ]
          },
          "metadata": {
            "tags": []
          },
          "execution_count": 48
        }
      ]
    },
    {
      "cell_type": "code",
      "metadata": {
        "id": "vmbNb8c8yPnJ",
        "colab_type": "code",
        "colab": {
          "base_uri": "https://localhost:8080/",
          "height": 34
        },
        "outputId": "fac59dba-467f-4882-825e-f3e75c408236"
      },
      "source": [
        "#strings\n",
        "s1 ='python'\n",
        "s1\n",
        "\n"
      ],
      "execution_count": 49,
      "outputs": [
        {
          "output_type": "execute_result",
          "data": {
            "text/plain": [
              "'python'"
            ]
          },
          "metadata": {
            "tags": []
          },
          "execution_count": 49
        }
      ]
    },
    {
      "cell_type": "code",
      "metadata": {
        "id": "JCAXskU5ykKv",
        "colab_type": "code",
        "colab": {
          "base_uri": "https://localhost:8080/",
          "height": 85
        },
        "outputId": "b857c6a4-0e5b-4f9f-dbd4-357d1da1390a"
      },
      "source": [
        "s1 = 'python'\n",
        "print(s1[0])\n",
        "print(s1[5])\n",
        "print(s1[2:])\n",
        "print(s1[::-1])"
      ],
      "execution_count": 53,
      "outputs": [
        {
          "output_type": "stream",
          "text": [
            "p\n",
            "n\n",
            "thon\n",
            "nohtyp\n"
          ],
          "name": "stdout"
        }
      ]
    },
    {
      "cell_type": "code",
      "metadata": {
        "id": "P7M4twZAzjaa",
        "colab_type": "code",
        "colab": {}
      },
      "source": [
        "s1 = 'python'\n",
        "print(s1[len(s1)//2])\n"
      ],
      "execution_count": 0,
      "outputs": []
    },
    {
      "cell_type": "code",
      "metadata": {
        "id": "umT8ffcN446Z",
        "colab_type": "code",
        "colab": {}
      },
      "source": [
        ""
      ],
      "execution_count": 0,
      "outputs": []
    },
    {
      "cell_type": "code",
      "metadata": {
        "id": "RfhpLsb245bQ",
        "colab_type": "code",
        "colab": {
          "base_uri": "https://localhost:8080/",
          "height": 51
        },
        "outputId": "42fe4bf3-c15a-4ba4-9174-530add103ace"
      },
      "source": [
        "#usind function reverese of string\n",
        "def reverseofstring(str):\n",
        "  if str==str[::-1]:\n",
        "    return True\n",
        "  else:\n",
        "    return False\n",
        "print(reverseofstring(\"programming\"))\n",
        "print(reverseofstring(\"gang\"))"
      ],
      "execution_count": 58,
      "outputs": [
        {
          "output_type": "stream",
          "text": [
            "False\n",
            "False\n"
          ],
          "name": "stdout"
        }
      ]
    },
    {
      "cell_type": "markdown",
      "metadata": {
        "id": "V9_nXS9g75mj",
        "colab_type": "text"
      },
      "source": [
        "#String build-in-methods:\n",
        "- upper()\n",
        "- lower()\n",
        "- islower()\n",
        "- isupper()\n",
        "- istitle()\n",
        "- isnumeric()\n",
        "- isalpha()\n",
        "- isspace()"
      ]
    },
    {
      "cell_type": "code",
      "metadata": {
        "id": "K7-Qutx36zhY",
        "colab_type": "code",
        "colab": {
          "base_uri": "https://localhost:8080/",
          "height": 136
        },
        "outputId": "a8b70e6a-f778-47a4-dd43-a31d8d0dbefc"
      },
      "source": [
        "s1 = 'python'\n",
        "print(s1.upper())\n",
        "print(s1.lower())\n",
        "print(s1.isupper())\n",
        "print(s1.islower())\n",
        "print(s1.istitle())\n",
        "print(s1.isnumeric)\n",
        "print(s1.isalpha())"
      ],
      "execution_count": 59,
      "outputs": [
        {
          "output_type": "stream",
          "text": [
            "PYTHON\n",
            "python\n",
            "False\n",
            "True\n",
            "False\n",
            "<built-in method isnumeric of str object at 0x7f81e27f59d0>\n",
            "True\n"
          ],
          "name": "stdout"
        }
      ]
    },
    {
      "cell_type": "code",
      "metadata": {
        "id": "1ou-5FdG7Ybi",
        "colab_type": "code",
        "colab": {
          "base_uri": "https://localhost:8080/",
          "height": 34
        },
        "outputId": "88c6aefa-5cc8-434c-f8a9-a1281b7bfe95"
      },
      "source": [
        "s1 ='Py th on'\n",
        "print(s1.isspace())"
      ],
      "execution_count": 62,
      "outputs": [
        {
          "output_type": "stream",
          "text": [
            "False\n"
          ],
          "name": "stdout"
        }
      ]
    },
    {
      "cell_type": "code",
      "metadata": {
        "id": "zOSpc9BX7hlw",
        "colab_type": "code",
        "colab": {
          "base_uri": "https://localhost:8080/",
          "height": 34
        },
        "outputId": "f2a25112-ad76-403b-f672-3526807cc424"
      },
      "source": [
        "s1 = ' '\n",
        "print(s1.isspace())"
      ],
      "execution_count": 63,
      "outputs": [
        {
          "output_type": "stream",
          "text": [
            "True\n"
          ],
          "name": "stdout"
        }
      ]
    },
    {
      "cell_type": "code",
      "metadata": {
        "id": "lnLpFqSx85fq",
        "colab_type": "code",
        "colab": {}
      },
      "source": [
        "#string methods\n",
        "- join()\n",
        "- split()\n",
        "- replace()\n"
      ],
      "execution_count": 0,
      "outputs": []
    },
    {
      "cell_type": "code",
      "metadata": {
        "id": "Jasl9xfa9LIR",
        "colab_type": "code",
        "colab": {
          "base_uri": "https://localhost:8080/",
          "height": 34
        },
        "outputId": "8b4f0bac-9de6-48ec-fde4-9f299a4fa38b"
      },
      "source": [
        "s1 = 'python'\n",
        "print(\" 4 \".join(s1))\n"
      ],
      "execution_count": 65,
      "outputs": [
        {
          "output_type": "stream",
          "text": [
            "p 4 y 4 t 4 h 4 o 4 n\n"
          ],
          "name": "stdout"
        }
      ]
    },
    {
      "cell_type": "code",
      "metadata": {
        "id": "HisY7eQm-A5H",
        "colab_type": "code",
        "colab": {
          "base_uri": "https://localhost:8080/",
          "height": 34
        },
        "outputId": "96f3775b-5996-44a1-fb3a-43e362365e75"
      },
      "source": [
        "s1 = 'python is easy to learn'\n",
        "print(\" , \".join(s1))\n"
      ],
      "execution_count": 67,
      "outputs": [
        {
          "output_type": "stream",
          "text": [
            "p , y , t , h , o , n ,   , i , s ,   , e , a , s , y ,   , t , o ,   , l , e , a , r , n\n"
          ],
          "name": "stdout"
        }
      ]
    },
    {
      "cell_type": "code",
      "metadata": {
        "id": "87dnvhHs-LVH",
        "colab_type": "code",
        "colab": {
          "base_uri": "https://localhost:8080/",
          "height": 34
        },
        "outputId": "0056e175-dd50-4f66-9dc6-af2d5ae91ea5"
      },
      "source": [
        "s1 = 'python is a easy to learn'\n",
        "print(s1.split())\n"
      ],
      "execution_count": 69,
      "outputs": [
        {
          "output_type": "stream",
          "text": [
            "['python', 'is', 'a', 'easy', 'to', 'learn']\n"
          ],
          "name": "stdout"
        }
      ]
    },
    {
      "cell_type": "code",
      "metadata": {
        "id": "DNk7_uPJ-dJr",
        "colab_type": "code",
        "colab": {
          "base_uri": "https://localhost:8080/",
          "height": 51
        },
        "outputId": "4f0a737b-c959-4c06-c6a5-5934142bcfcb"
      },
      "source": [
        "s1 = 'python is a easy to learn'\n",
        "print(s1.split())\n",
        "print(s1.split('a'))"
      ],
      "execution_count": 71,
      "outputs": [
        {
          "output_type": "stream",
          "text": [
            "['python', 'is', 'a', 'easy', 'to', 'learn']\n",
            "['python is ', ' e', 'sy to le', 'rn']\n"
          ],
          "name": "stdout"
        }
      ]
    },
    {
      "cell_type": "code",
      "metadata": {
        "id": "Bv2_KO6g-pLn",
        "colab_type": "code",
        "colab": {
          "base_uri": "https://localhost:8080/",
          "height": 442
        },
        "outputId": "f57af67b-5959-468b-ba87-79fd5d82c244"
      },
      "source": [
        "s1 = 'python is a easy to learn'\n",
        "li =  list(s1)\n",
        "li"
      ],
      "execution_count": 72,
      "outputs": [
        {
          "output_type": "execute_result",
          "data": {
            "text/plain": [
              "['p',\n",
              " 'y',\n",
              " 't',\n",
              " 'h',\n",
              " 'o',\n",
              " 'n',\n",
              " ' ',\n",
              " 'i',\n",
              " 's',\n",
              " ' ',\n",
              " 'a',\n",
              " ' ',\n",
              " 'e',\n",
              " 'a',\n",
              " 's',\n",
              " 'y',\n",
              " ' ',\n",
              " 't',\n",
              " 'o',\n",
              " ' ',\n",
              " 'l',\n",
              " 'e',\n",
              " 'a',\n",
              " 'r',\n",
              " 'n']"
            ]
          },
          "metadata": {
            "tags": []
          },
          "execution_count": 72
        }
      ]
    },
    {
      "cell_type": "code",
      "metadata": {
        "id": "6mnC7OxQ_G_Q",
        "colab_type": "code",
        "colab": {
          "base_uri": "https://localhost:8080/",
          "height": 34
        },
        "outputId": "76deeacf-8e3f-49c4-b24a-80db628b1a77"
      },
      "source": [
        "s1 = 'python is a easy to learn'\n",
        "print(s1.replace( \"easy\",\"very easy\"))\n",
        "\n"
      ],
      "execution_count": 74,
      "outputs": [
        {
          "output_type": "stream",
          "text": [
            "python is a very easy to learn\n"
          ],
          "name": "stdout"
        }
      ]
    },
    {
      "cell_type": "code",
      "metadata": {
        "id": "oQKY0X4A_rPq",
        "colab_type": "code",
        "colab": {
          "base_uri": "https://localhost:8080/",
          "height": 85
        },
        "outputId": "c270909c-0a30-40f2-e11c-7f9ae3066373"
      },
      "source": [
        "marks = {\"peter\": [80,85,90], \"joe\":[86,90,95]}\n",
        "print(marks[\"peter\"][0])\n",
        "print(marks[\"peter\"])\n",
        "print(marks[\"joe\"][0])\n",
        "print(marks[\"joe\"][::-1])\n"
      ],
      "execution_count": 81,
      "outputs": [
        {
          "output_type": "stream",
          "text": [
            "80\n",
            "[80, 85, 90]\n",
            "86\n",
            "[95, 90, 86]\n"
          ],
          "name": "stdout"
        }
      ]
    },
    {
      "cell_type": "code",
      "metadata": {
        "id": "ZLOofpD-ECYs",
        "colab_type": "code",
        "colab": {}
      },
      "source": [
        "marks = {\"peter\": {\"math\":1,\"english\":2},\"joe\":[86,90,95]}"
      ],
      "execution_count": 0,
      "outputs": []
    }
  ]
}