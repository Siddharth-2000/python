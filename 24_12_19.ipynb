{
  "nbformat": 4,
  "nbformat_minor": 0,
  "metadata": {
    "colab": {
      "name": "24/12/19.ipynb",
      "provenance": [],
      "collapsed_sections": [],
      "include_colab_link": true
    },
    "kernelspec": {
      "name": "python3",
      "display_name": "Python 3"
    }
  },
  "cells": [
    {
      "cell_type": "markdown",
      "metadata": {
        "id": "view-in-github",
        "colab_type": "text"
      },
      "source": [
        "<a href=\"https://colab.research.google.com/github/Siddharth-2000/python/blob/master/24_12_19.ipynb\" target=\"_parent\"><img src=\"https://colab.research.google.com/assets/colab-badge.svg\" alt=\"Open In Colab\"/></a>"
      ]
    },
    {
      "cell_type": "markdown",
      "metadata": {
        "id": "VjyJHVo4DoUC",
        "colab_type": "text"
      },
      "source": [
        ""
      ]
    },
    {
      "cell_type": "code",
      "metadata": {
        "id": "X4RcBhmdVsPC",
        "colab_type": "code",
        "colab": {}
      },
      "source": [
        ""
      ],
      "execution_count": 0,
      "outputs": []
    },
    {
      "cell_type": "markdown",
      "metadata": {
        "id": "aJYKp1cqD7KG",
        "colab_type": "text"
      },
      "source": [
        "#Markdown\n",
        "##Markdown\n",
        "###markdown\n",
        "####markdown\n"
      ]
    },
    {
      "cell_type": "code",
      "metadata": {
        "id": "qj1wuTH6Eqs3",
        "colab_type": "code",
        "colab": {}
      },
      "source": [
        ""
      ],
      "execution_count": 0,
      "outputs": []
    },
    {
      "cell_type": "markdown",
      "metadata": {
        "id": "abWQKC-AGpWk",
        "colab_type": "text"
      },
      "source": [
        "**appole**\n",
        "*apple*"
      ]
    },
    {
      "cell_type": "code",
      "metadata": {
        "id": "qdbB7tXQGzL3",
        "colab_type": "code",
        "colab": {}
      },
      "source": [
        ""
      ],
      "execution_count": 0,
      "outputs": []
    },
    {
      "cell_type": "markdown",
      "metadata": {
        "id": "JrhlaD4AHyvg",
        "colab_type": "text"
      },
      "source": [
        "##insert image\n",
        "![ Text ](https://cosmos-images2.imgix.net/file/spina/photo/20565/191010_nature.jpg?ixlib=rails-2.1.4&auto=format&ch=Width%2CDPR&fit=max&w=835)"
      ]
    },
    {
      "cell_type": "markdown",
      "metadata": {
        "id": "e3snOJ1NIZq_",
        "colab_type": "text"
      },
      "source": [
        "#insert site\n",
        "[site](https://www.facebook.com/login.php?next=https%3A%2F%2Fwww.facebook.com%2Frecover)"
      ]
    },
    {
      "cell_type": "markdown",
      "metadata": {
        "id": "aRM1nHU-I-51",
        "colab_type": "text"
      },
      "source": [
        ""
      ]
    },
    {
      "cell_type": "code",
      "metadata": {
        "id": "CsLenFfWLehS",
        "colab_type": "code",
        "colab": {}
      },
      "source": [
        ""
      ],
      "execution_count": 0,
      "outputs": []
    },
    {
      "cell_type": "code",
      "metadata": {
        "id": "jPppmhigKFyl",
        "colab_type": "code",
        "colab": {}
      },
      "source": [
        "#python\n"
      ],
      "execution_count": 0,
      "outputs": []
    },
    {
      "cell_type": "markdown",
      "metadata": {
        "id": "Z_GDl7KxKXfn",
        "colab_type": "text"
      },
      "source": [
        "#PYTHON\n",
        "\n",
        "\n",
        "*   List item\n",
        "*   List item\n",
        "\n",
        "\n",
        "\n"
      ]
    },
    {
      "cell_type": "markdown",
      "metadata": {
        "id": "1h4tB91XKlHe",
        "colab_type": "text"
      },
      "source": [
        ""
      ]
    },
    {
      "cell_type": "code",
      "metadata": {
        "id": "su6fR1wLKyvp",
        "colab_type": "code",
        "outputId": "39cb944a-9168-4585-d568-4d6b4e8f838b",
        "colab": {
          "base_uri": "https://localhost:8080/",
          "height": 34
        }
      },
      "source": [
        "print(\"hello world\")"
      ],
      "execution_count": 0,
      "outputs": [
        {
          "output_type": "stream",
          "text": [
            "hello world\n"
          ],
          "name": "stdout"
        }
      ]
    },
    {
      "cell_type": "code",
      "metadata": {
        "id": "Z77JEXbELBTn",
        "colab_type": "code",
        "outputId": "ceb47687-877a-4507-daf3-f7ae857c0200",
        "colab": {
          "base_uri": "https://localhost:8080/",
          "height": 34
        }
      },
      "source": [
        "print(\"hello , hyderabad\")"
      ],
      "execution_count": 0,
      "outputs": [
        {
          "output_type": "stream",
          "text": [
            "hello , hyderabad\n"
          ],
          "name": "stdout"
        }
      ]
    },
    {
      "cell_type": "code",
      "metadata": {
        "id": "U8QGExHgLL6l",
        "colab_type": "code",
        "outputId": "4cc2818e-64e9-453c-f5fe-3adc74894020",
        "colab": {
          "base_uri": "https://localhost:8080/",
          "height": 34
        }
      },
      "source": [
        "x =12\n",
        "y  =13\n",
        "print(x, y)"
      ],
      "execution_count": 0,
      "outputs": [
        {
          "output_type": "stream",
          "text": [
            "12 13\n"
          ],
          "name": "stdout"
        }
      ]
    },
    {
      "cell_type": "code",
      "metadata": {
        "id": "sE_PDsrmLq4o",
        "colab_type": "code",
        "outputId": "b2eaabd9-ea9a-41d5-f36f-31f9c41adbd1",
        "colab": {
          "base_uri": "https://localhost:8080/",
          "height": 34
        }
      },
      "source": [
        "a = b= c = 20\n",
        "print (a,b,c)"
      ],
      "execution_count": 0,
      "outputs": [
        {
          "output_type": "stream",
          "text": [
            "20 20 20\n"
          ],
          "name": "stdout"
        }
      ]
    },
    {
      "cell_type": "code",
      "metadata": {
        "id": "nPdRtyrGMKBC",
        "colab_type": "code",
        "outputId": "0d78d546-0d30-448b-c103-8552e1dd4009",
        "colab": {
          "base_uri": "https://localhost:8080/",
          "height": 34
        }
      },
      "source": [
        " a ,b,c=1000,20,30\n",
        " print(a,b,c\n",
        "       )"
      ],
      "execution_count": 0,
      "outputs": [
        {
          "output_type": "stream",
          "text": [
            "1000 20 30\n"
          ],
          "name": "stdout"
        }
      ]
    },
    {
      "cell_type": "markdown",
      "metadata": {
        "id": "SNP8wF_fNVL9",
        "colab_type": "text"
      },
      "source": [
        "#DATA TYPES AND COVERSIONS\n",
        "\n",
        "*   INT\n",
        "*   FLOAT\n",
        "STRING\n",
        "BOOLEAN\n",
        "COMPLEX\n",
        "\n"
      ]
    },
    {
      "cell_type": "code",
      "metadata": {
        "id": "uAQki1U7NiwJ",
        "colab_type": "code",
        "outputId": "ba8c69c5-454d-473f-caa7-5c1fb46d5a68",
        "colab": {
          "base_uri": "https://localhost:8080/",
          "height": 68
        }
      },
      "source": [
        "X =10\n",
        "Y =12.89\n",
        "Z =3 + 5J\n",
        "print(type (X))\n",
        "print(type(Y))\n",
        "print(type(Z\n",
        "          ))"
      ],
      "execution_count": 0,
      "outputs": [
        {
          "output_type": "stream",
          "text": [
            "<class 'int'>\n",
            "<class 'float'>\n",
            "<class 'complex'>\n"
          ],
          "name": "stdout"
        }
      ]
    },
    {
      "cell_type": "code",
      "metadata": {
        "id": "ji2c81eiOBSg",
        "colab_type": "code",
        "outputId": "f7422e54-208c-43ae-c09e-a7c6b0e0c6b9",
        "colab": {
          "base_uri": "https://localhost:8080/",
          "height": 34
        }
      },
      "source": [
        "x= 4\n",
        "y = 10\n",
        "x < y\n"
      ],
      "execution_count": 0,
      "outputs": [
        {
          "output_type": "execute_result",
          "data": {
            "text/plain": [
              "True"
            ]
          },
          "metadata": {
            "tags": []
          },
          "execution_count": 8
        }
      ]
    },
    {
      "cell_type": "code",
      "metadata": {
        "id": "_F87ASYKO56L",
        "colab_type": "code",
        "outputId": "1d7f39cd-b980-46d2-97c6-014aeb2ea383",
        "colab": {
          "base_uri": "https://localhost:8080/",
          "height": 51
        }
      },
      "source": [
        "a = \"xyz\"\n",
        "b =\"sdf\"\n",
        "print(type(a\n",
        "          ))\n",
        "print(type(b))"
      ],
      "execution_count": 0,
      "outputs": [
        {
          "output_type": "stream",
          "text": [
            "<class 'str'>\n",
            "<class 'str'>\n"
          ],
          "name": "stdout"
        }
      ]
    },
    {
      "cell_type": "code",
      "metadata": {
        "id": "Mo2qSl2bPXmr",
        "colab_type": "code",
        "outputId": "bdd19009-9472-43f0-8284-8f6a6fe68605",
        "colab": {
          "base_uri": "https://localhost:8080/",
          "height": 34
        }
      },
      "source": [
        "i =122222222222\n",
        "print(type(i)\n",
        ")"
      ],
      "execution_count": 0,
      "outputs": [
        {
          "output_type": "stream",
          "text": [
            "<class 'int'>\n"
          ],
          "name": "stdout"
        }
      ]
    },
    {
      "cell_type": "code",
      "metadata": {
        "id": "SMAUToeZP1Gw",
        "colab_type": "code",
        "colab": {}
      },
      "source": [
        ""
      ],
      "execution_count": 0,
      "outputs": []
    },
    {
      "cell_type": "code",
      "metadata": {
        "colab_type": "code",
        "outputId": "df18f14f-430b-4aa9-b989-ef2a5ba1fe2a",
        "id": "XGI_vQoiP5mb",
        "colab": {
          "base_uri": "https://localhost:8080/",
          "height": 68
        }
      },
      "source": [
        "i =122222222222\n",
        "print(type(i)\n",
        ")\n",
        "s1 =str(i)\n",
        "print(type(s1))\n",
        "f = float (i)\n",
        "print(type(f))"
      ],
      "execution_count": 0,
      "outputs": [
        {
          "output_type": "stream",
          "text": [
            "<class 'int'>\n",
            "<class 'str'>\n",
            "<class 'float'>\n"
          ],
          "name": "stdout"
        }
      ]
    },
    {
      "cell_type": "code",
      "metadata": {
        "id": "MXs1wlmLQNUZ",
        "colab_type": "code",
        "outputId": "28dc318e-dbcc-42c4-9885-e3c6ac11bde2",
        "colab": {
          "base_uri": "https://localhost:8080/",
          "height": 34
        }
      },
      "source": [
        "c =complex(3,5)\n",
        "print (c\n",
        "       )"
      ],
      "execution_count": 0,
      "outputs": [
        {
          "output_type": "stream",
          "text": [
            "(3+5j)\n"
          ],
          "name": "stdout"
        }
      ]
    },
    {
      "cell_type": "markdown",
      "metadata": {
        "id": "q1smCtw3RDQS",
        "colab_type": "text"
      },
      "source": [
        ""
      ]
    },
    {
      "cell_type": "markdown",
      "metadata": {
        "id": "uKP5w4Y2RFlU",
        "colab_type": "text"
      },
      "source": [
        "#reading a value ----input function\n"
      ]
    },
    {
      "cell_type": "code",
      "metadata": {
        "id": "K2CAf8MxROj9",
        "colab_type": "code",
        "outputId": "384597f8-fa2d-4ed8-cf91-4ddeb9cd6ec6",
        "colab": {
          "base_uri": "https://localhost:8080/",
          "height": 51
        }
      },
      "source": [
        "s = input (\"enter a name\")\n",
        "print(s)"
      ],
      "execution_count": 0,
      "outputs": [
        {
          "output_type": "stream",
          "text": [
            "enter a namesiddharth\n",
            "siddharth\n"
          ],
          "name": "stdout"
        }
      ]
    },
    {
      "cell_type": "code",
      "metadata": {
        "id": "djpBLNv3RhqZ",
        "colab_type": "code",
        "colab": {}
      },
      "source": [
        ""
      ],
      "execution_count": 0,
      "outputs": []
    },
    {
      "cell_type": "code",
      "metadata": {
        "colab_type": "code",
        "outputId": "205c9e9e-d499-4ff6-fe0b-16dac6633ebe",
        "id": "YnBCrb-iRnOB",
        "colab": {
          "base_uri": "https://localhost:8080/",
          "height": 68
        }
      },
      "source": [
        "s = input (\"enter a name\")\n",
        "print(s)\n",
        "print(type (s))"
      ],
      "execution_count": 0,
      "outputs": [
        {
          "output_type": "stream",
          "text": [
            "enter a nameas\n",
            "as\n",
            "<class 'str'>\n"
          ],
          "name": "stdout"
        }
      ]
    },
    {
      "cell_type": "code",
      "metadata": {
        "id": "91VyIrWjRvt3",
        "colab_type": "code",
        "outputId": "7542d2d0-137d-42c6-9928-853515f227c4",
        "colab": {
          "base_uri": "https://localhost:8080/",
          "height": 68
        }
      },
      "source": [
        "a =int (input(\"enter name\"))\n",
        "print (a)\n",
        "print(type(a))"
      ],
      "execution_count": 0,
      "outputs": [
        {
          "output_type": "stream",
          "text": [
            "enter name0123\n",
            "123\n",
            "<class 'int'>\n"
          ],
          "name": "stdout"
        }
      ]
    },
    {
      "cell_type": "markdown",
      "metadata": {
        "id": "ENMxOlx4SjQu",
        "colab_type": "text"
      },
      "source": [
        "#OPERATORS\n",
        "\n",
        "_OPERATOR IS A SYMBOL IS USED TO PERFORM A  SPECIFIC KIND OF OPERATIONS\n",
        "\n",
        "\n",
        "\n"
      ]
    },
    {
      "cell_type": "markdown",
      "metadata": {
        "id": "FJnEDoXxSyr8",
        "colab_type": "text"
      },
      "source": [
        "#ARITHEMATIC OPERATORS\n",
        "\n",
        "\n",
        "1.   +\n",
        "2.   -\n",
        "\n",
        "\n",
        "-  *\n",
        " - /\n",
        " - %\n",
        " -//\n",
        " -**\n",
        "\n"
      ]
    },
    {
      "cell_type": "code",
      "metadata": {
        "id": "quDvjJkXTUzZ",
        "colab_type": "code",
        "outputId": "ed64d28e-2fdf-4ac0-c0ac-0a90d311e2ce",
        "colab": {
          "base_uri": "https://localhost:8080/",
          "height": 136
        }
      },
      "source": [
        "n =123\n",
        "print(n + 10)\n",
        "print(n - 10)\n",
        "print(n * 10)\n",
        "print(n / 10)\n",
        "print(n % 10)\n",
        "print(n // 10)\n",
        "print(n ** 10)\n"
      ],
      "execution_count": 0,
      "outputs": [
        {
          "output_type": "stream",
          "text": [
            "133\n",
            "113\n",
            "1230\n",
            "12.3\n",
            "3\n",
            "12\n",
            "792594609605189126649\n"
          ],
          "name": "stdout"
        }
      ]
    },
    {
      "cell_type": "markdown",
      "metadata": {
        "id": "Dmo8Qju8Ufey",
        "colab_type": "text"
      },
      "source": [
        "3 perenthesis and arth operators\n",
        "\n",
        "\n",
        "*   parenthesis\n",
        "*   power\n",
        "*   multiplication\n",
        "- division\n",
        "*   addition\n",
        "\n",
        "\n",
        "\n",
        "\n"
      ]
    },
    {
      "cell_type": "markdown",
      "metadata": {
        "id": "J8ouTBHNXLPr",
        "colab_type": "text"
      },
      "source": [
        "#relational operators\n",
        "\n",
        ">\n",
        "  <\n",
        " <=\n",
        " >=\n",
        " !=\n",
        " =="
      ]
    },
    {
      "cell_type": "code",
      "metadata": {
        "id": "bLgN-yXqXhxR",
        "colab_type": "code",
        "colab": {}
      },
      "source": [
        ""
      ],
      "execution_count": 0,
      "outputs": []
    },
    {
      "cell_type": "markdown",
      "metadata": {
        "id": "0Xx5cWB1WrWT",
        "colab_type": "text"
      },
      "source": [
        "\n"
      ]
    },
    {
      "cell_type": "code",
      "metadata": {
        "id": "efcUPUFlUznr",
        "colab_type": "code",
        "outputId": "039b4294-abb5-47d5-bd35-50aa6a6a5595",
        "colab": {
          "base_uri": "https://localhost:8080/",
          "height": 34
        }
      },
      "source": [
        "\n",
        "x =1 + 2 ** 3 / 4 + 5\n",
        "print (x)\n"
      ],
      "execution_count": 0,
      "outputs": [
        {
          "output_type": "stream",
          "text": [
            "8.0\n"
          ],
          "name": "stdout"
        }
      ]
    },
    {
      "cell_type": "code",
      "metadata": {
        "id": "w_o1ARdtVjhH",
        "colab_type": "code",
        "outputId": "d0b1d83d-7aa8-47de-851f-f27f84df7858",
        "colab": {
          "base_uri": "https://localhost:8080/",
          "height": 34
        }
      },
      "source": [
        "x =1+2**3//4*5\n",
        "print (x)"
      ],
      "execution_count": 0,
      "outputs": [
        {
          "output_type": "stream",
          "text": [
            "11\n"
          ],
          "name": "stdout"
        }
      ]
    },
    {
      "cell_type": "code",
      "metadata": {
        "id": "MtdOeKQiXKpM",
        "colab_type": "code",
        "outputId": "3f708036-56ec-4397-854e-9b7c4f061fad",
        "colab": {
          "base_uri": "https://localhost:8080/",
          "height": 34
        }
      },
      "source": [
        "a = 10\n",
        "a1 = a > 12\n",
        "print (a1)\n"
      ],
      "execution_count": 0,
      "outputs": [
        {
          "output_type": "stream",
          "text": [
            "False\n"
          ],
          "name": "stdout"
        }
      ]
    },
    {
      "cell_type": "markdown",
      "metadata": {
        "id": "yhwyMW3eX84W",
        "colab_type": "text"
      },
      "source": [
        "#logical operators\n",
        "and \n",
        "or\n",
        "\n"
      ]
    },
    {
      "cell_type": "code",
      "metadata": {
        "id": "EOj3dZUiYleZ",
        "colab_type": "code",
        "outputId": "2d0458c6-5343-4137-965a-452c620c5117",
        "colab": {
          "base_uri": "https://localhost:8080/",
          "height": 51
        }
      },
      "source": [
        "x = 12\n",
        "y = 33\n",
        "print (x <= 22 and y <= 22)\n",
        "print (x <=22 or x>=12)\n"
      ],
      "execution_count": 0,
      "outputs": [
        {
          "output_type": "stream",
          "text": [
            "False\n",
            "True\n"
          ],
          "name": "stdout"
        }
      ]
    },
    {
      "cell_type": "markdown",
      "metadata": {
        "id": "WWgDYLzVZn-G",
        "colab_type": "text"
      },
      "source": [
        "#member ship operators\n",
        "in \n",
        "not in\n"
      ]
    },
    {
      "cell_type": "markdown",
      "metadata": {
        "id": "kvfQDcj8Zxia",
        "colab_type": "text"
      },
      "source": [
        "#conditional statements\n",
        "if _else statemens\n",
        "###syntax:\n",
        "####if condition:\n",
        "> Statements<br>\n",
        "#####else:\n",
        "> statements"
      ]
    },
    {
      "cell_type": "code",
      "metadata": {
        "id": "8hP_kD_GaTne",
        "colab_type": "code",
        "outputId": "e9af821e-95e4-4682-a161-5c0c19b1aa98",
        "colab": {
          "base_uri": "https://localhost:8080/",
          "height": 51
        }
      },
      "source": [
        "n =int (input (\"emter a  number\"))\n",
        "if n%2==0:\n",
        "  print(\"even number\")\n",
        "else:\n",
        "  print(\"odd number\")"
      ],
      "execution_count": 0,
      "outputs": [
        {
          "output_type": "stream",
          "text": [
            "emter a  number44\n",
            "even number\n"
          ],
          "name": "stdout"
        }
      ]
    },
    {
      "cell_type": "code",
      "metadata": {
        "colab_type": "code",
        "outputId": "5ee8077e-7f2c-4b33-a370-148777f01d80",
        "id": "rsxt3VDpcPI7",
        "colab": {
          "base_uri": "https://localhost:8080/",
          "height": 51
        }
      },
      "source": [
        "n =int (input (\"emter a  number\"))\n",
        "if n%3==0 and n%5==0:\n",
        "  print(\"divisible\")\n",
        "else:\n",
        "  print(\"not divisible\")"
      ],
      "execution_count": 0,
      "outputs": [
        {
          "output_type": "stream",
          "text": [
            "emter a  number45\n",
            "divisible\n"
          ],
          "name": "stdout"
        }
      ]
    },
    {
      "cell_type": "code",
      "metadata": {
        "id": "xn7iKnBkc8WX",
        "colab_type": "code",
        "outputId": "1871cb5f-7b0d-49cf-d318-666ae62e4042",
        "colab": {
          "base_uri": "https://localhost:8080/",
          "height": 51
        }
      },
      "source": [
        "n = int (input(\"enter your number\"))\n",
        "if (n>0):\n",
        "  print (\"positive number\")\n",
        "elif n==0:\n",
        "  print(\"number is neutral\")\n",
        "else:\n",
        "  print (\"negetive number\")"
      ],
      "execution_count": 0,
      "outputs": [
        {
          "output_type": "stream",
          "text": [
            "enter your number0\n",
            "number is neutral\n"
          ],
          "name": "stdout"
        }
      ]
    },
    {
      "cell_type": "code",
      "metadata": {
        "id": "etvjp85dd7U-",
        "colab_type": "code",
        "colab": {}
      },
      "source": [
        ""
      ],
      "execution_count": 0,
      "outputs": []
    },
    {
      "cell_type": "code",
      "metadata": {
        "colab_type": "code",
        "outputId": "37ef2a40-073c-42c5-c566-b89203bd5bdf",
        "id": "OnCUMiidd-na",
        "colab": {
          "base_uri": "https://localhost:8080/",
          "height": 51
        }
      },
      "source": [
        "n = int (input(\"enter your number\"))\n",
        "if (n%4==0):\n",
        "  print (\" leap year\")\n",
        "\n",
        "else:\n",
        "  print (\"not a leap number`\")"
      ],
      "execution_count": 0,
      "outputs": [
        {
          "output_type": "stream",
          "text": [
            "enter your number2019\n",
            "not a leap number\n"
          ],
          "name": "stdout"
        }
      ]
    },
    {
      "cell_type": "code",
      "metadata": {
        "id": "Ra6PmUIMfsLT",
        "colab_type": "code",
        "colab": {}
      },
      "source": [
        "n =  int ()"
      ],
      "execution_count": 0,
      "outputs": []
    },
    {
      "cell_type": "code",
      "metadata": {
        "id": "v0C38nwiVuJI",
        "colab_type": "code",
        "colab": {}
      },
      "source": [
        "# find large number from 3 number\n",
        "n =m"
      ],
      "execution_count": 0,
      "outputs": []
    }
  ]
}